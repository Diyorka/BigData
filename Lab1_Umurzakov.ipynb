{
 "cells": [
  {
   "cell_type": "raw",
   "source": [
    "print(\"Hello, world\")"
   ],
   "metadata": {
    "collapsed": false
   },
   "id": "9e00d6a605b068a5"
  },
  {
   "cell_type": "code",
   "execution_count": 29,
   "outputs": [
    {
     "name": "stdout",
     "output_type": "stream",
     "text": [
      "Hello, world\n"
     ]
    }
   ],
   "source": [
    "print(\"Hello, world\")"
   ],
   "metadata": {
    "collapsed": false,
    "ExecuteTime": {
     "end_time": "2023-09-14T07:27:24.378965441Z",
     "start_time": "2023-09-14T07:27:24.336549232Z"
    }
   },
   "id": "48cadf981c26c005"
  },
  {
   "cell_type": "markdown",
   "source": [
    "# Diyor is doing first lab :)"
   ],
   "metadata": {
    "collapsed": false
   },
   "id": "6fc508a46238e7db"
  },
  {
   "cell_type": "code",
   "execution_count": 30,
   "outputs": [
    {
     "data": {
      "text/plain": "str"
     },
     "execution_count": 30,
     "metadata": {},
     "output_type": "execute_result"
    }
   ],
   "source": [
    "s = \"Di\"\n",
    "t = type(s)\n",
    "t"
   ],
   "metadata": {
    "collapsed": false,
    "ExecuteTime": {
     "end_time": "2023-09-14T07:27:24.571136664Z",
     "start_time": "2023-09-14T07:27:24.353593635Z"
    }
   },
   "id": "d647d20ae1747ecf"
  },
  {
   "cell_type": "code",
   "execution_count": 31,
   "outputs": [
    {
     "name": "stdout",
     "output_type": "stream",
     "text": [
      "[3, 1, 2]\n"
     ]
    }
   ],
   "source": [
    "l = [3,1,2]\n",
    "print(l)"
   ],
   "metadata": {
    "collapsed": false,
    "ExecuteTime": {
     "end_time": "2023-09-14T07:27:24.571538076Z",
     "start_time": "2023-09-14T07:27:24.374181605Z"
    }
   },
   "id": "e6722078e33096b0"
  },
  {
   "cell_type": "code",
   "execution_count": 32,
   "outputs": [
    {
     "name": "stdout",
     "output_type": "stream",
     "text": [
      "{'foo': 1, 'bar': 2.3, 's': 'my_dictionary'}\n"
     ]
    }
   ],
   "source": [
    "d = {'foo':1, 'bar':2.3, 's':'my_dictionary'}\n",
    "print(d)"
   ],
   "metadata": {
    "collapsed": false,
    "ExecuteTime": {
     "end_time": "2023-09-14T07:27:24.583529321Z",
     "start_time": "2023-09-14T07:27:24.374524667Z"
    }
   },
   "id": "1b1f95d6b942460e"
  },
  {
   "cell_type": "code",
   "execution_count": 33,
   "outputs": [
    {
     "name": "stdout",
     "output_type": "stream",
     "text": [
      "Число 5 в степени 3 125.0\n"
     ]
    }
   ],
   "source": [
    "import math\n",
    "p = math.pow(5, 3)\n",
    "print(\"Число 5 в степени 3\", p)"
   ],
   "metadata": {
    "collapsed": false,
    "ExecuteTime": {
     "end_time": "2023-09-14T07:27:24.584129855Z",
     "start_time": "2023-09-14T07:27:24.414933745Z"
    }
   },
   "id": "655b65afa75b3c9c"
  },
  {
   "cell_type": "code",
   "execution_count": 34,
   "outputs": [
    {
     "name": "stdout",
     "output_type": "stream",
     "text": [
      "Our first value is False. Our second value is 7\n"
     ]
    }
   ],
   "source": [
    "i = 7\n",
    "n = False\n",
    "print('Our first value is %s. Our second value is %s' %(n ,i))"
   ],
   "metadata": {
    "collapsed": false,
    "ExecuteTime": {
     "end_time": "2023-09-14T07:27:24.584422523Z",
     "start_time": "2023-09-14T07:27:24.415295990Z"
    }
   },
   "id": "17425fb1949daadf"
  },
  {
   "cell_type": "code",
   "execution_count": 35,
   "outputs": [],
   "source": [
    "print?"
   ],
   "metadata": {
    "collapsed": false,
    "ExecuteTime": {
     "end_time": "2023-09-14T07:27:24.592589588Z",
     "start_time": "2023-09-14T07:27:24.415586325Z"
    }
   },
   "id": "4e14bf646a0a3cb3"
  },
  {
   "cell_type": "code",
   "execution_count": 36,
   "outputs": [
    {
     "name": "stdout",
     "output_type": "stream",
     "text": [
      "The value of i is 1 and f is greater than 4\n"
     ]
    }
   ],
   "source": [
    "i=4 \n",
    "f=4.1\n",
    "if i == 4 and f > 4:\n",
    "    print(\"The value of i is 1 and f is greater than 4\")\n",
    "elif i > 4 or f > 4:\n",
    "    print(\"i or f is greater than 4\")\n",
    "else:\n",
    "    print(\"both i and f are less or equals 4\")"
   ],
   "metadata": {
    "collapsed": false,
    "ExecuteTime": {
     "end_time": "2023-09-14T07:27:24.593205544Z",
     "start_time": "2023-09-14T07:27:24.415825402Z"
    }
   },
   "id": "39f66fdbfb935eae"
  },
  {
   "cell_type": "code",
   "execution_count": 37,
   "outputs": [
    {
     "name": "stdout",
     "output_type": "stream",
     "text": [
      "[3, 1, 2]\n"
     ]
    }
   ],
   "source": [
    "l = [3,1,2]\n",
    "print(l)"
   ],
   "metadata": {
    "collapsed": false,
    "ExecuteTime": {
     "end_time": "2023-09-14T07:27:24.593513322Z",
     "start_time": "2023-09-14T07:27:24.416047321Z"
    }
   },
   "id": "7b81f075ed47ae27"
  },
  {
   "cell_type": "code",
   "execution_count": 38,
   "outputs": [
    {
     "name": "stdout",
     "output_type": "stream",
     "text": [
      "3\n",
      "1\n",
      "2\n"
     ]
    }
   ],
   "source": [
    "for i in l:\n",
    "    print(i)"
   ],
   "metadata": {
    "collapsed": false,
    "ExecuteTime": {
     "end_time": "2023-09-14T07:27:24.593795793Z",
     "start_time": "2023-09-14T07:27:24.416294254Z"
    }
   },
   "id": "76b35d17b8a63a29"
  },
  {
   "cell_type": "code",
   "execution_count": 39,
   "outputs": [
    {
     "name": "stdout",
     "output_type": "stream",
     "text": [
      "Числа от 100 до 200 100\n",
      "Числа от 100 до 200 101\n",
      "Числа от 100 до 200 102\n",
      "Числа от 100 до 200 103\n",
      "Числа от 100 до 200 104\n",
      "Числа от 100 до 200 105\n",
      "Числа от 100 до 200 106\n",
      "Числа от 100 до 200 107\n",
      "Числа от 100 до 200 108\n",
      "Числа от 100 до 200 109\n",
      "Числа от 100 до 200 110\n",
      "Числа от 100 до 200 111\n",
      "Числа от 100 до 200 112\n",
      "Числа от 100 до 200 113\n",
      "Числа от 100 до 200 114\n",
      "Числа от 100 до 200 115\n",
      "Числа от 100 до 200 116\n",
      "Числа от 100 до 200 117\n",
      "Числа от 100 до 200 118\n",
      "Числа от 100 до 200 119\n",
      "Числа от 100 до 200 120\n",
      "Числа от 100 до 200 121\n",
      "Числа от 100 до 200 122\n",
      "Числа от 100 до 200 123\n",
      "Числа от 100 до 200 124\n",
      "Числа от 100 до 200 125\n",
      "Числа от 100 до 200 126\n",
      "Числа от 100 до 200 127\n",
      "Числа от 100 до 200 128\n",
      "Числа от 100 до 200 129\n",
      "Числа от 100 до 200 130\n",
      "Числа от 100 до 200 131\n",
      "Числа от 100 до 200 132\n",
      "Числа от 100 до 200 133\n",
      "Числа от 100 до 200 134\n",
      "Числа от 100 до 200 135\n",
      "Числа от 100 до 200 136\n",
      "Числа от 100 до 200 137\n",
      "Числа от 100 до 200 138\n",
      "Числа от 100 до 200 139\n",
      "Числа от 100 до 200 140\n",
      "Числа от 100 до 200 141\n",
      "Числа от 100 до 200 142\n",
      "Числа от 100 до 200 143\n",
      "Числа от 100 до 200 144\n",
      "Числа от 100 до 200 145\n",
      "Числа от 100 до 200 146\n",
      "Числа от 100 до 200 147\n",
      "Числа от 100 до 200 148\n",
      "Числа от 100 до 200 149\n",
      "Числа от 100 до 200 150\n",
      "Числа от 100 до 200 151\n",
      "Числа от 100 до 200 152\n",
      "Числа от 100 до 200 153\n",
      "Числа от 100 до 200 154\n",
      "Числа от 100 до 200 155\n",
      "Числа от 100 до 200 156\n",
      "Числа от 100 до 200 157\n",
      "Числа от 100 до 200 158\n",
      "Числа от 100 до 200 159\n",
      "Числа от 100 до 200 160\n",
      "Числа от 100 до 200 161\n",
      "Числа от 100 до 200 162\n",
      "Числа от 100 до 200 163\n",
      "Числа от 100 до 200 164\n",
      "Числа от 100 до 200 165\n",
      "Числа от 100 до 200 166\n",
      "Числа от 100 до 200 167\n",
      "Числа от 100 до 200 168\n",
      "Числа от 100 до 200 169\n",
      "Числа от 100 до 200 170\n",
      "Числа от 100 до 200 171\n",
      "Числа от 100 до 200 172\n",
      "Числа от 100 до 200 173\n",
      "Числа от 100 до 200 174\n",
      "Числа от 100 до 200 175\n",
      "Числа от 100 до 200 176\n",
      "Числа от 100 до 200 177\n",
      "Числа от 100 до 200 178\n",
      "Числа от 100 до 200 179\n",
      "Числа от 100 до 200 180\n",
      "Числа от 100 до 200 181\n",
      "Числа от 100 до 200 182\n",
      "Числа от 100 до 200 183\n",
      "Числа от 100 до 200 184\n",
      "Числа от 100 до 200 185\n",
      "Числа от 100 до 200 186\n",
      "Числа от 100 до 200 187\n",
      "Числа от 100 до 200 188\n",
      "Числа от 100 до 200 189\n",
      "Числа от 100 до 200 190\n",
      "Числа от 100 до 200 191\n",
      "Числа от 100 до 200 192\n",
      "Числа от 100 до 200 193\n",
      "Числа от 100 до 200 194\n",
      "Числа от 100 до 200 195\n",
      "Числа от 100 до 200 196\n",
      "Числа от 100 до 200 197\n",
      "Числа от 100 до 200 198\n",
      "Числа от 100 до 200 199\n"
     ]
    }
   ],
   "source": [
    "for i in range(100, 200):\n",
    "    print(\"Числа от 100 до 200\", i)"
   ],
   "metadata": {
    "collapsed": false,
    "ExecuteTime": {
     "end_time": "2023-09-14T07:27:24.594188657Z",
     "start_time": "2023-09-14T07:27:24.418422191Z"
    }
   },
   "id": "845240f0d7bf0b2e"
  },
  {
   "cell_type": "code",
   "execution_count": 1,
   "outputs": [
    {
     "name": "stdout",
     "output_type": "stream",
     "text": [
      "Number 0\n",
      "Number 1\n",
      "Number 2\n",
      "Number 3\n",
      "Number 4\n",
      "Number 5\n",
      "Number 6\n",
      "Number 7\n",
      "Number 8\n",
      "Number 9\n",
      "Number 10\n",
      "Number 11\n",
      "Number 12\n",
      "Number 13\n",
      "Number 14\n",
      "Number 15\n",
      "Number 16\n",
      "Number 17\n",
      "Number 18\n",
      "Number 19\n",
      "Number 20\n",
      "Number 21\n",
      "Number 22\n",
      "Number 23\n",
      "Number 24\n",
      "Number 25\n",
      "Number 26\n",
      "Number 27\n",
      "Number 28\n",
      "Number 29\n",
      "Number 30\n",
      "Number 31\n",
      "Number 32\n",
      "Number 33\n",
      "Number 34\n",
      "Number 35\n",
      "Number 36\n",
      "Number 37\n",
      "Number 38\n",
      "Number 39\n",
      "Number 40\n",
      "Number 41\n",
      "Number 42\n",
      "Number 43\n",
      "Number 44\n",
      "Number 45\n",
      "Number 46\n",
      "Number 47\n",
      "Number 48\n",
      "Number 49\n",
      "Number 50\n",
      "Number 51\n",
      "Number 52\n",
      "Number 53\n",
      "Number 54\n",
      "Number 55\n",
      "Number 56\n",
      "Number 57\n",
      "Number 58\n",
      "Number 59\n",
      "Number 60\n",
      "Number 61\n",
      "Number 62\n",
      "Number 63\n",
      "Number 64\n",
      "Number 65\n",
      "Number 66\n",
      "Number 67\n",
      "Number 68\n",
      "Number 69\n",
      "Number 70\n",
      "Number 71\n",
      "Number 72\n",
      "Number 73\n",
      "Number 74\n",
      "Number 75\n",
      "Number 76\n",
      "Number 77\n",
      "Number 78\n",
      "Number 79\n",
      "Number 80\n",
      "Number 81\n",
      "Number 82\n",
      "Number 83\n",
      "Number 84\n",
      "Number 85\n",
      "Number 86\n",
      "Number 87\n",
      "Number 88\n",
      "Number 89\n",
      "Number 90\n",
      "Number 91\n",
      "Number 92\n",
      "Number 93\n",
      "Number 94\n",
      "Number 95\n",
      "Number 96\n",
      "Number 97\n",
      "Number 98\n",
      "Number 99\n"
     ]
    }
   ],
   "source": [
    "import time\n",
    "for i in range(100):\n",
    "    time.sleep(0.1)\n",
    "    print(\"Number\", i)"
   ],
   "metadata": {
    "collapsed": false,
    "ExecuteTime": {
     "end_time": "2023-09-21T06:38:09.466662817Z",
     "start_time": "2023-09-21T06:37:59.446624340Z"
    }
   },
   "id": "da97005d60bfd49d"
  },
  {
   "cell_type": "code",
   "execution_count": 2,
   "outputs": [
    {
     "name": "stdout",
     "output_type": "stream",
     "text": [
      "6\n",
      "7\n",
      "8\n",
      "9\n"
     ]
    }
   ],
   "source": [
    "counter = 6\n",
    "while counter < 10:\n",
    "    print(counter)\n",
    "    counter+=1"
   ],
   "metadata": {
    "collapsed": false,
    "ExecuteTime": {
     "end_time": "2023-09-21T06:39:20.016588191Z",
     "start_time": "2023-09-21T06:39:20.005300185Z"
    }
   },
   "id": "a2f56db1659a56d"
  },
  {
   "cell_type": "code",
   "execution_count": null,
   "outputs": [],
   "source": [
    "def multiply(a, b):\n",
    "    return a*b\n",
    "multiply(2,5)"
   ],
   "metadata": {
    "collapsed": false,
    "ExecuteTime": {
     "start_time": "2023-09-14T07:27:34.060357797Z"
    }
   },
   "id": "6e8d11a3dacbc5e0"
  },
  {
   "cell_type": "code",
   "execution_count": null,
   "outputs": [],
   "source": [
    "square = lambda x:x*x\n",
    "square(5)"
   ],
   "metadata": {
    "collapsed": false,
    "ExecuteTime": {
     "start_time": "2023-09-14T07:27:34.064264522Z"
    }
   },
   "id": "ee9dd613b5d03ef3"
  },
  {
   "cell_type": "code",
   "execution_count": null,
   "outputs": [],
   "source": [
    "x = lambda a,b : a*b\n",
    "print(x(5,6))"
   ],
   "metadata": {
    "collapsed": false,
    "ExecuteTime": {
     "start_time": "2023-09-14T07:27:34.068482265Z"
    }
   },
   "id": "576d2e6ae5a251f"
  },
  {
   "cell_type": "code",
   "execution_count": null,
   "outputs": [],
   "source": [
    "x = lambda a,b,c : a+b+c\n",
    "print(x(5,10,2))"
   ],
   "metadata": {
    "collapsed": false,
    "ExecuteTime": {
     "start_time": "2023-09-14T07:27:34.110741799Z"
    }
   },
   "id": "72ae280be3be2d7b"
  },
  {
   "cell_type": "markdown",
   "source": [
    "<h1> Heading 1 <h1>\n",
    "<h2> Heading 2 <h2>\n",
    "<h3> Heading 3 <h3>\n",
    "<h4> Heading 4 <h4>\n",
    "<h5> Heading 5 <h5>\n",
    "<h6> Heading 6 <h6>"
   ],
   "metadata": {
    "collapsed": false
   },
   "id": "ee19238d9bf2765c"
  },
  {
   "cell_type": "markdown",
   "source": [
    "<img src='img.png'>"
   ],
   "metadata": {
    "collapsed": false
   },
   "id": "919520acb8c2e9bf"
  },
  {
   "cell_type": "markdown",
   "source": [
    "\\begin{equation*}\n",
    "\\(E=mc^2\\)\n",
    "\\end{equation*}"
   ],
   "metadata": {
    "collapsed": false
   },
   "id": "8a1b75a395628ba0"
  },
  {
   "cell_type": "code",
   "execution_count": 41,
   "outputs": [
    {
     "name": "stdout",
     "output_type": "stream",
     "text": [
      "/bin/bash: line 1: ipconfig: command not found\r\n"
     ]
    }
   ],
   "source": [
    "! ipconfig"
   ],
   "metadata": {
    "collapsed": false,
    "ExecuteTime": {
     "end_time": "2023-09-14T07:28:48.314147616Z",
     "start_time": "2023-09-14T07:28:48.196475550Z"
    }
   },
   "id": "fcfd3810117f1031"
  },
  {
   "cell_type": "code",
   "execution_count": 42,
   "outputs": [
    {
     "name": "stdout",
     "output_type": "stream",
     "text": [
      "PING google.com (108.177.14.139) 56(84) bytes of data.\r\n",
      "64 bytes from lt-in-f139.1e100.net (108.177.14.139): icmp_seq=1 ttl=54 time=145 ms\r\n",
      "64 bytes from lt-in-f139.1e100.net (108.177.14.139): icmp_seq=2 ttl=54 time=108 ms\r\n",
      "64 bytes from lt-in-f139.1e100.net (108.177.14.139): icmp_seq=3 ttl=54 time=207 ms\r\n",
      "64 bytes from lt-in-f139.1e100.net (108.177.14.139): icmp_seq=4 ttl=54 time=123 ms\r\n",
      "64 bytes from lt-in-f139.1e100.net (108.177.14.139): icmp_seq=5 ttl=54 time=141 ms\r\n",
      "64 bytes from lt-in-f139.1e100.net (108.177.14.139): icmp_seq=6 ttl=54 time=178 ms\r\n",
      "64 bytes from lt-in-f139.1e100.net (108.177.14.139): icmp_seq=7 ttl=54 time=116 ms\r\n",
      "64 bytes from lt-in-f139.1e100.net (108.177.14.139): icmp_seq=8 ttl=54 time=142 ms\r\n",
      "64 bytes from lt-in-f139.1e100.net (108.177.14.139): icmp_seq=9 ttl=54 time=437 ms\r\n",
      "64 bytes from lt-in-f139.1e100.net (108.177.14.139): icmp_seq=10 ttl=54 time=270 ms\r\n",
      "64 bytes from lt-in-f139.1e100.net (108.177.14.139): icmp_seq=11 ttl=54 time=204 ms\r\n",
      "64 bytes from lt-in-f139.1e100.net (108.177.14.139): icmp_seq=12 ttl=54 time=96.6 ms\r\n",
      "64 bytes from lt-in-f139.1e100.net (108.177.14.139): icmp_seq=13 ttl=54 time=274 ms\r\n",
      "64 bytes from lt-in-f139.1e100.net (108.177.14.139): icmp_seq=14 ttl=54 time=97.6 ms\r\n",
      "64 bytes from lt-in-f139.1e100.net (108.177.14.139): icmp_seq=15 ttl=54 time=93.8 ms\r\n",
      "64 bytes from lt-in-f139.1e100.net (108.177.14.139): icmp_seq=16 ttl=54 time=110 ms\r\n",
      "64 bytes from lt-in-f139.1e100.net (108.177.14.139): icmp_seq=17 ttl=54 time=224 ms\r\n",
      "64 bytes from lt-in-f139.1e100.net (108.177.14.139): icmp_seq=18 ttl=54 time=96.6 ms\r\n",
      "64 bytes from lt-in-f139.1e100.net (108.177.14.139): icmp_seq=19 ttl=54 time=109 ms\r\n",
      "64 bytes from lt-in-f139.1e100.net (108.177.14.139): icmp_seq=20 ttl=54 time=213 ms\r\n",
      "64 bytes from lt-in-f139.1e100.net (108.177.14.139): icmp_seq=21 ttl=54 time=150 ms\r\n",
      "64 bytes from lt-in-f139.1e100.net (108.177.14.139): icmp_seq=22 ttl=54 time=244 ms\r\n",
      "64 bytes from lt-in-f139.1e100.net (108.177.14.139): icmp_seq=23 ttl=54 time=126 ms\r\n",
      "64 bytes from lt-in-f139.1e100.net (108.177.14.139): icmp_seq=24 ttl=54 time=102 ms\r\n",
      "64 bytes from lt-in-f139.1e100.net (108.177.14.139): icmp_seq=25 ttl=54 time=203 ms\r\n",
      "^C\r\n",
      "\r\n",
      "--- google.com ping statistics ---\r\n",
      "25 packets transmitted, 25 received, 0% packet loss, time 24008ms\r\n",
      "rtt min/avg/max/mdev = 93.841/168.417/436.894/78.269 ms\r\n"
     ]
    }
   ],
   "source": [
    "! ping google.com"
   ],
   "metadata": {
    "collapsed": false,
    "ExecuteTime": {
     "end_time": "2023-09-14T07:29:34.706924112Z",
     "start_time": "2023-09-14T07:29:10.250835648Z"
    }
   },
   "id": "f48792473b54aba"
  },
  {
   "cell_type": "code",
   "execution_count": null,
   "outputs": [],
   "source": [],
   "metadata": {
    "collapsed": false
   },
   "id": "10d5bd7a4f3b3c8e"
  }
 ],
 "metadata": {
  "kernelspec": {
   "display_name": "Python 3",
   "language": "python",
   "name": "python3"
  },
  "language_info": {
   "codemirror_mode": {
    "name": "ipython",
    "version": 2
   },
   "file_extension": ".py",
   "mimetype": "text/x-python",
   "name": "python",
   "nbconvert_exporter": "python",
   "pygments_lexer": "ipython2",
   "version": "2.7.6"
  }
 },
 "nbformat": 4,
 "nbformat_minor": 5
}
