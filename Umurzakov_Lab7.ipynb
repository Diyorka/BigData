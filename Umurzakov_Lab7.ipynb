{
 "cells": [
  {
   "cell_type": "markdown",
   "source": [
    "<h1>Diyor Umurzakov, AIN-1-21</h1>\n",
    "\n",
    "<h1>Лабораторная работа 7</h1>\n",
    "<h2>Работа с текстовыми данными.</h2>"
   ],
   "metadata": {
    "collapsed": false
   },
   "id": "616b60533c5b26c4"
  },
  {
   "cell_type": "code",
   "execution_count": 4,
   "outputs": [],
   "source": [
    "import collections\n",
    "from sklearn.feature_extraction.text import CountVectorizer\n",
    "from sklearn.decomposition import LatentDirichletAllocation\n",
    "import mglearn\n",
    "import matplotlib.pyplot as plt\n",
    "import numpy as np\n"
   ],
   "metadata": {
    "collapsed": false,
    "ExecuteTime": {
     "end_time": "2023-12-15T04:39:20.291074436Z",
     "start_time": "2023-12-15T04:39:18.300602594Z"
    }
   },
   "id": "51756310d976cdab"
  },
  {
   "cell_type": "code",
   "execution_count": 5,
   "outputs": [],
   "source": [
    "laptop_shop_reviews = [\n",
    "    \"Прекрасный магазин ноутбуков с отличным обслуживанием!\",\n",
    "    \"Добрейшие сотрудники в данном магазине ноутбуков. Прекрасное обслуживание.\",\n",
    "    \"Отличный сайт у данного магазина ноутбуков и обслуживание на высшем уровне.\",\n",
    "    \"Удобный магазин ноутбуков с разнообразным выбором. Персонал очень внимательный и доброжелательный.\",\n",
    "    \"Широкий выбор ноутбуков. Цены приемлемые, обслуживание на высоте.\",\n",
    "    \"Магазин ноутбуков в центре города. Атмосфера немного пафосная, но выбор техники впечатляет.\",\n",
    "    \"Недорогой магазин ноутбуков с высоким качеством. Товары в целом неплохие, но обслуживание могло бы быть лучше.\",\n",
    "    \"Магазин ноутбуков с эксклюзивными моделями. Выбор интересный, но на цену нужно обратить внимание.\",\n",
    "    \"Отличный магазин для приобретения ноутбука. Компетентные консультанты и большой ассортимент.\",\n",
    "    \"Магазин ноутбуков с акциями. Цены вполне доступные, а обслуживание на уровне.\",\n",
    "    \"Магазин ноутбуков с высоким уровнем сервиса. Помогли подобрать отличный вариант.\",\n",
    "    \"Магазин ноутбуков с широким ассортиментом. Отличные цены и профессиональные консультанты.\",\n",
    "    \"Магазин ноутбуков с современными моделями. Цены соответствуют качеству товара.\",\n",
    "    \"Магазин ноутбуков с быстрой доставкой. Заказывал - привезли в срок, все отлично.\",\n",
    "    \"Магазин ноутбуков с гарантией на товар. Спокойно можно делать покупки.\",\n",
    "    \"Магазин ноутбуков с дружелюбным персоналом. Помогли с выбором, все подробно объяснили.\",\n",
    "    \"Магазин ноутбуков с высоким рейтингом. Не разочаровал, рекомендую.\",\n",
    "    \"Магазин ноутбуков с актуальными моделями. Всегда можно найти что-то новенькое.\",\n",
    "    \"Магазин ноутбуков с современными технологиями. Все, что нужно - здесь.\",\n",
    "    \"Магазин ноутбуков с профессиональным обслуживанием. Решают любые вопросы быстро и качественно.\",\n",
    "    \"Магазин ноутбуков с поддержкой клиентов. Ответили на все вопросы, помогли определиться с выбором.\",\n",
    "    \"Магазин ноутбуков с оперативной службой поддержки. Очень удобно в случае возникновения проблем.\",\n",
    "    \"Магазин ноутбуков с долговечными товарами. Покупкой доволен, все работает отлично.\",\n",
    "]"
   ],
   "metadata": {
    "collapsed": false,
    "ExecuteTime": {
     "end_time": "2023-12-15T04:39:21.280130867Z",
     "start_time": "2023-12-15T04:39:21.255938688Z"
    }
   },
   "id": "703cd6a7e8e22c1e"
  },
  {
   "cell_type": "code",
   "execution_count": 6,
   "outputs": [
    {
     "name": "stdout",
     "output_type": "stream",
     "text": [
      "[('ноутбуков', 20), ('с', 20), ('Магазин', 16), ('на', 6), ('в', 5), ('и', 5), ('магазин', 4), ('обслуживание', 4), ('все', 4), ('Цены', 3)]\n"
     ]
    }
   ],
   "source": [
    "words = []\n",
    "for review in laptop_shop_reviews:\n",
    "    words += review.split()\n",
    "\n",
    "word_counts = collections.Counter(words)\n",
    "print(word_counts.most_common(10))"
   ],
   "metadata": {
    "collapsed": false,
    "ExecuteTime": {
     "end_time": "2023-12-15T04:39:27.535804922Z",
     "start_time": "2023-12-15T04:39:27.519890141Z"
    }
   },
   "id": "2c8eedbabdfc341f"
  },
  {
   "cell_type": "code",
   "execution_count": 8,
   "outputs": [
    {
     "name": "stdout",
     "output_type": "stream",
     "text": [
      "Форма матрицы: (23, 129)\n"
     ]
    }
   ],
   "source": [
    "vect = CountVectorizer()\n",
    "X = vect.fit_transform(laptop_shop_reviews)\n",
    "\n",
    "print(f\"Форма матрицы: {X.shape}\")"
   ],
   "metadata": {
    "collapsed": false,
    "ExecuteTime": {
     "end_time": "2023-12-15T04:40:34.583048105Z",
     "start_time": "2023-12-15T04:40:34.540447857Z"
    }
   },
   "id": "6b832e779d9625c4"
  },
  {
   "cell_type": "code",
   "execution_count": 9,
   "outputs": [
    {
     "data": {
      "text/plain": "(10, 129)"
     },
     "execution_count": 9,
     "metadata": {},
     "output_type": "execute_result"
    }
   ],
   "source": [
    "lda = LatentDirichletAllocation(n_components=10, learning_method=\"batch\", max_iter=10, random_state=42)\n",
    "document_topics = lda.fit_transform(X)\n",
    "lda.components_.shape"
   ],
   "metadata": {
    "collapsed": false,
    "ExecuteTime": {
     "end_time": "2023-12-15T04:40:46.969226206Z",
     "start_time": "2023-12-15T04:40:46.874554690Z"
    }
   },
   "id": "8356974c50ecd95d"
  },
  {
   "cell_type": "code",
   "execution_count": 10,
   "outputs": [
    {
     "name": "stdout",
     "output_type": "stream",
     "text": [
      "topic 0       topic 1       topic 2       topic 3       topic 4       \n",
      "--------      --------      --------      --------      --------      \n",
      "магазин       моделями      магазин       все           ноутбуков     \n",
      "консультанты  можно         ноутбуков     выбором       цены          \n",
      "ноутбуков     магазин       обслуживание  помогли       обслуживание  \n",
      "отличный      что           высоким       дружелюбным   выбор         \n",
      "ассортимент   актуальными   но            объяснили     широкий       \n",
      "большой       то            товары        персоналом    приемлемые    \n",
      "приобретения  найти         могло         подробно      высоте        \n",
      "компетентные  всегда        быть          магазин       товара        \n",
      "для           новенькое     недорогой     ноутбуков     качеству      \n",
      "ноутбука      ноутбуков     неплохие      на            соответствуют \n",
      "\n",
      "\n",
      "topic 5       topic 6       topic 7       topic 8       topic 9       \n",
      "--------      --------      --------      --------      --------      \n",
      "на            магазин       все           магазин       магазин       \n",
      "ноутбуков     ноутбуков     современными  ноутбуков     ноутбуков     \n",
      "отличный      отлично       нужно         на            вопросы       \n",
      "выбор         высоким       технологиями  прекрасный    очень         \n",
      "но            все           здесь         отличным      обслуживанием \n",
      "уровне        доставкой     что           отличный      помогли       \n",
      "эксклюзивными быстрой       магазин       высоким       выбором       \n",
      "внимание      привезли      ноутбуков     все           все           \n",
      "цену          заказывал     на            выбор         центре        \n",
      "интересный    срок          прекрасный    но            пафосная      \n"
     ]
    }
   ],
   "source": [
    "sorting = np.argsort(lda.components_, axis=1)[:, ::-1]\n",
    "feature_names = np.array(vect.get_feature_names_out())\n",
    "\n",
    "mglearn.tools.print_topics(topics=range(10), feature_names=feature_names, sorting=sorting, topics_per_chunk=5,\n",
    "                           n_words=10)"
   ],
   "metadata": {
    "collapsed": false,
    "ExecuteTime": {
     "end_time": "2023-12-15T04:41:00.231758440Z",
     "start_time": "2023-12-15T04:41:00.209849568Z"
    }
   },
   "id": "889a6a4ab85aaef7"
  },
  {
   "cell_type": "code",
   "execution_count": 11,
   "outputs": [
    {
     "name": "stdout",
     "output_type": "stream",
     "text": [
      "topic 7       topic 16      topic 24      topic 25      topic 28      topic 36      topic 37      \n",
      "--------      --------      --------      --------      --------      --------      --------      \n",
      "магазин       эксклюзивными эксклюзивными эксклюзивными эксклюзивными магазин       ноутбуков     \n",
      "отличный      ноутбуков     ноутбуков     ноутбуков     ноутбуков     приобретения  магазин       \n",
      "подобрать     долговечными  долговечными  долговечными  долговечными  отличный      впечатляет    \n",
      "сервиса       доставкой     доставкой     доставкой     доставкой     консультанты  можно         \n",
      "вариант       доступные     доступные     доступные     доступные     ассортимент   пафосная      \n",
      "ноутбуков     дружелюбным   дружелюбным   дружелюбным   дружелюбным   для           техники       \n",
      "высоким       заказывал     заказывал     заказывал     заказывал     большой       города        \n",
      "помогли       здесь         здесь         здесь         здесь         ноутбука      товар         \n",
      "уровнем       интересный    интересный    интересный    интересный    компетентные  но            \n",
      "эксклюзивными качественно   качественно   качественно   качественно   дружелюбным   выбор         \n",
      "качеству      качеством     качеством     качеством     качеством     заказывал     центре        \n",
      "качеством     качеству      качеству      качеству      качеству      лучше         атмосфера     \n",
      "качественно   клиентов      клиентов      клиентов      клиентов      интересный    немного       \n",
      "компетентные  компетентные  компетентные  компетентные  компетентные  качественно   на            \n",
      "интересный    консультанты  консультанты  консультанты  консультанты  качеством     покупки       \n",
      "здесь         лучше         лучше         лучше         лучше         качеству      гарантией     \n",
      "заказывал     любые         любые         любые         любые         клиентов      спокойно      \n",
      "дружелюбным   магазин       магазин       магазин       магазин       здесь         делать        \n",
      "доступные     магазина      магазина      магазина      магазина      эксклюзивными клиентов      \n",
      "клиентов      магазине      магазине      магазине      магазине      любые         интересный    \n",
      "\n",
      "\n",
      "topic 45      topic 51      topic 53      topic 54      topic 89      topic 97      \n",
      "--------      --------      --------      --------      --------      --------      \n",
      "эксклюзивными эксклюзивными нужно         эксклюзивными эксклюзивными эксклюзивными \n",
      "ноутбуков     ноутбуков     технологиями  ноутбуков     ноутбуков     ноутбуков     \n",
      "долговечными  долговечными  магазин       долговечными  долговечными  долговечными  \n",
      "доставкой     доставкой     здесь         доставкой     доставкой     доставкой     \n",
      "доступные     доступные     современными  доступные     доступные     доступные     \n",
      "дружелюбным   дружелюбным   все           дружелюбным   дружелюбным   дружелюбным   \n",
      "заказывал     заказывал     ноутбуков     заказывал     заказывал     заказывал     \n",
      "здесь         здесь         что           здесь         здесь         здесь         \n",
      "интересный    интересный    большой       интересный    интересный    интересный    \n",
      "качественно   качественно   любые         качественно   качественно   качественно   \n",
      "качеством     качеством     доступные     качеством     качеством     качеством     \n",
      "качеству      качеству      дружелюбным   качеству      качеству      качеству      \n",
      "клиентов      клиентов      заказывал     клиентов      клиентов      клиентов      \n",
      "компетентные  компетентные  интересный    компетентные  компетентные  компетентные  \n",
      "консультанты  консультанты  качественно   консультанты  консультанты  консультанты  \n",
      "лучше         лучше         качеством     лучше         лучше         лучше         \n",
      "любые         любые         качеству      любые         любые         любые         \n",
      "магазин       магазин       клиентов      магазин       магазин       магазин       \n",
      "магазина      магазина      компетентные  магазина      магазина      магазина      \n",
      "магазине      магазине      консультанты  магазине      магазине      магазине      \n"
     ]
    }
   ],
   "source": [
    "lda100 = LatentDirichletAllocation(n_components=100, learning_method=\"batch\", max_iter=10, random_state=42)\n",
    "document_topics100 = lda100.fit_transform(X)\n",
    "\n",
    "topics = np.array([7, 16, 24, 25, 28, 36, 37, 45, 51, 53, 54, 89, 97])\n",
    "\n",
    "sorting = np.argsort(lda100.components_, axis=1)[:, ::-1]\n",
    "feature_names = np.array(vect.get_feature_names_out())\n",
    "mglearn.tools.print_topics(topics=topics, feature_names=feature_names, sorting=sorting, topics_per_chunk=7, n_words=20)"
   ],
   "metadata": {
    "collapsed": false,
    "ExecuteTime": {
     "end_time": "2023-12-15T04:41:21.292988157Z",
     "start_time": "2023-12-15T04:41:21.237967902Z"
    }
   },
   "id": "9a7efc495c4041a2"
  },
  {
   "cell_type": "code",
   "execution_count": 12,
   "outputs": [
    {
     "data": {
      "text/plain": "<Figure size 640x480 with 1 Axes>",
      "image/png": "[encoded data removed]"
     },
     "metadata": {},
     "output_type": "display_data"
    }
   ],
   "source": [
    "plt.hist(document_topics, bins=10)\n",
    "plt.xlabel(\"Тема\")\n",
    "plt.ylabel(\"Частота\")\n",
    "plt.show()"
   ],
   "metadata": {
    "collapsed": false,
    "ExecuteTime": {
     "end_time": "2023-12-15T04:41:53.598852911Z",
     "start_time": "2023-12-15T04:41:53.344059412Z"
    }
   },
   "id": "dad709c7ebca5282"
  },
  {
   "cell_type": "code",
   "execution_count": 13,
   "outputs": [
    {
     "data": {
      "text/plain": "<Figure size 480x480 with 1 Axes>",
      "image/png": "[encoded data removed]"
     },
     "metadata": {},
     "output_type": "display_data"
    }
   ],
   "source": [
    "# Корреляция тем\n",
    "correlation = np.corrcoef(document_topics.T)\n",
    "\n",
    "plt.matshow(correlation, cmap=\"Blues\")\n",
    "plt.xlabel(\"Тема\")\n",
    "plt.ylabel(\"Тема\")\n",
    "plt.show()"
   ],
   "metadata": {
    "collapsed": false,
    "ExecuteTime": {
     "end_time": "2023-12-15T04:42:24.698426321Z",
     "start_time": "2023-12-15T04:42:24.498691596Z"
    }
   },
   "id": "1f94f18c0de97874"
  },
  {
   "cell_type": "markdown",
   "source": [
    "<h2>Вывод:</h2>\n",
    "\n",
    "<h3>Мешок слов - это эффективный метод представления текстовых данных, который широко используется в обработке естественного языка. \n",
    "В данном контексте, использование мешка слов позволяет провести анализ отзывов о магазине ноутбуков. Например, с его помощью можно выявить ключевые темы, которые наиболее важны для клиентов. Этот метод обработки текста полезен для задач, таких как определение популярных моделей ноутбуков, выявление основных пожеланий покупателей и оценка общего восприятия магазина. </h3>"
   ],
   "metadata": {
    "collapsed": false
   },
   "id": "2ba1092c934cd4c1"
  },
  {
   "cell_type": "code",
   "execution_count": 13,
   "outputs": [],
   "source": [],
   "metadata": {
    "collapsed": false,
    "ExecuteTime": {
     "end_time": "2023-12-15T04:43:58.462697813Z",
     "start_time": "2023-12-15T04:43:58.420170997Z"
    }
   },
   "id": "31be60615cf8a17b"
  }
 ],
 "metadata": {
  "kernelspec": {
   "display_name": "Python 3",
   "language": "python",
   "name": "python3"
  },
  "language_info": {
   "codemirror_mode": {
    "name": "ipython",
    "version": 2
   },
   "file_extension": ".py",
   "mimetype": "text/x-python",
   "name": "python",
   "nbconvert_exporter": "python",
   "pygments_lexer": "ipython2",
   "version": "2.7.6"
  }
 },
 "nbformat": 4,
 "nbformat_minor": 5
}
